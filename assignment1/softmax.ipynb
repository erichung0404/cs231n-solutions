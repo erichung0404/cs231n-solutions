{
 "cells": [
  {
   "cell_type": "markdown",
   "metadata": {},
   "source": [
    "# Softmax exercise\n",
    "\n",
    "*Complete and hand in this completed worksheet (including its outputs and any supporting code outside of the worksheet) with your assignment submission. For more details see the [assignments page](https://compsci682-fa19.github.io/assignments2019/assignment1/) on the course website.*\n",
    "\n",
    "This exercise is analogous to the SVM exercise. You will:\n",
    "\n",
    "- implement a fully-vectorized **loss function** for the Softmax classifier\n",
    "- implement the fully-vectorized expression for its **analytic gradient**\n",
    "- **check your implementation** with numerical gradient\n",
    "- use a validation set to **tune the learning rate and regularization** strength\n",
    "- **optimize** the loss function with **SGD**\n",
    "- **visualize** the final learned weights\n"
   ]
  },
  {
   "cell_type": "code",
   "execution_count": 1,
   "metadata": {},
   "outputs": [],
   "source": [
    "from __future__ import print_function\n",
    "import random\n",
    "import numpy as np\n",
    "from cs682.data_utils import load_CIFAR10\n",
    "import matplotlib.pyplot as plt\n",
    "\n",
    "\n",
    "%matplotlib inline\n",
    "plt.rcParams['figure.figsize'] = (10.0, 8.0) # set default size of plots\n",
    "plt.rcParams['image.interpolation'] = 'nearest'\n",
    "plt.rcParams['image.cmap'] = 'gray'\n",
    "\n",
    "# for auto-reloading extenrnal modules\n",
    "# see http://stackoverflow.com/questions/1907993/autoreload-of-modules-in-ipython\n",
    "%load_ext autoreload\n",
    "%autoreload 2"
   ]
  },
  {
   "cell_type": "code",
   "execution_count": 2,
   "metadata": {},
   "outputs": [
    {
     "name": "stdout",
     "output_type": "stream",
     "text": [
      "Train data shape:  (49000, 3073)\n",
      "Train labels shape:  (49000,)\n",
      "Validation data shape:  (1000, 3073)\n",
      "Validation labels shape:  (1000,)\n",
      "Test data shape:  (1000, 3073)\n",
      "Test labels shape:  (1000,)\n",
      "dev data shape:  (500, 3073)\n",
      "dev labels shape:  (500,)\n"
     ]
    }
   ],
   "source": [
    "def get_CIFAR10_data(num_training=49000, num_validation=1000, num_test=1000, num_dev=500):\n",
    "    \"\"\"\n",
    "    Load the CIFAR-10 dataset from disk and perform preprocessing to prepare\n",
    "    it for the linear classifier. These are the same steps as we used for the\n",
    "    SVM, but condensed to a single function.  \n",
    "    \"\"\"\n",
    "    # Load the raw CIFAR-10 data\n",
    "    cifar10_dir = 'cs682/datasets/cifar-10-batches-py'\n",
    "    \n",
    "    X_train, y_train, X_test, y_test = load_CIFAR10(cifar10_dir)\n",
    "    \n",
    "    # subsample the data\n",
    "    mask = list(range(num_training, num_training + num_validation))\n",
    "    X_val = X_train[mask]\n",
    "    y_val = y_train[mask]\n",
    "    mask = list(range(num_training))\n",
    "    X_train = X_train[mask]\n",
    "    y_train = y_train[mask]\n",
    "    mask = list(range(num_test))\n",
    "    X_test = X_test[mask]\n",
    "    y_test = y_test[mask]\n",
    "    mask = np.random.choice(num_training, num_dev, replace=False)\n",
    "    X_dev = X_train[mask]\n",
    "    y_dev = y_train[mask]\n",
    "    \n",
    "    # Preprocessing: reshape the image data into rows\n",
    "    X_train = np.reshape(X_train, (X_train.shape[0], -1))\n",
    "    X_val = np.reshape(X_val, (X_val.shape[0], -1))\n",
    "    X_test = np.reshape(X_test, (X_test.shape[0], -1))\n",
    "    X_dev = np.reshape(X_dev, (X_dev.shape[0], -1))\n",
    "    \n",
    "    # Normalize the data: subtract the mean image\n",
    "    mean_image = np.mean(X_train, axis = 0)\n",
    "    X_train -= mean_image\n",
    "    X_val -= mean_image\n",
    "    X_test -= mean_image\n",
    "    X_dev -= mean_image\n",
    "    \n",
    "    # add bias dimension and transform into columns\n",
    "    X_train = np.hstack([X_train, np.ones((X_train.shape[0], 1))])\n",
    "    X_val = np.hstack([X_val, np.ones((X_val.shape[0], 1))])\n",
    "    X_test = np.hstack([X_test, np.ones((X_test.shape[0], 1))])\n",
    "    X_dev = np.hstack([X_dev, np.ones((X_dev.shape[0], 1))])\n",
    "    \n",
    "    return X_train, y_train, X_val, y_val, X_test, y_test, X_dev, y_dev\n",
    "\n",
    "\n",
    "# Cleaning up variables to prevent loading data multiple times (which may cause memory issue)\n",
    "try:\n",
    "   del X_train, y_train\n",
    "   del X_test, y_test\n",
    "   print('Clear previously loaded data.')\n",
    "except:\n",
    "   pass\n",
    "\n",
    "# Invoke the above function to get our data.\n",
    "X_train, y_train, X_val, y_val, X_test, y_test, X_dev, y_dev = get_CIFAR10_data()\n",
    "print('Train data shape: ', X_train.shape)\n",
    "print('Train labels shape: ', y_train.shape)\n",
    "print('Validation data shape: ', X_val.shape)\n",
    "print('Validation labels shape: ', y_val.shape)\n",
    "print('Test data shape: ', X_test.shape)\n",
    "print('Test labels shape: ', y_test.shape)\n",
    "print('dev data shape: ', X_dev.shape)\n",
    "print('dev labels shape: ', y_dev.shape)"
   ]
  },
  {
   "cell_type": "markdown",
   "metadata": {},
   "source": [
    "## Softmax Classifier\n",
    "\n",
    "Your code for this section will all be written inside **cs682/classifiers/softmax.py**. \n"
   ]
  },
  {
   "cell_type": "code",
   "execution_count": 3,
   "metadata": {},
   "outputs": [
    {
     "name": "stdout",
     "output_type": "stream",
     "text": [
      "loss: 0.000000\n",
      "sanity check: 2.302585\n"
     ]
    }
   ],
   "source": [
    "# First implement the naive softmax loss function with nested loops.\n",
    "# Open the file cs682/classifiers/softmax.py and implement the\n",
    "# softmax_loss_naive function.\n",
    "\n",
    "from cs682.classifiers.softmax import softmax_loss_naive\n",
    "import time\n",
    "\n",
    "# Generate a random softmax weight matrix and use it to compute the loss.\n",
    "W = np.random.randn(3073, 10) * 0.0001\n",
    "loss, grad = softmax_loss_naive(W, X_dev, y_dev, 0.0)\n",
    "\n",
    "# As a rough sanity check, our loss should be something close to -log(0.1).\n",
    "print('loss: %f' % loss)\n",
    "print('sanity check: %f' % (-np.log(0.1)))"
   ]
  },
  {
   "cell_type": "markdown",
   "metadata": {},
   "source": [
    "## Inline Question 1:\n",
    "Why do we expect our loss to be close to -log(0.1)? Explain briefly.**\n",
    "\n",
    "**Your answer:** *Fill this in*\n",
    "\n",
    "Since we have 10 classes, the probability of randomly selecting 1 class is 10%."
   ]
  },
  {
   "cell_type": "code",
   "execution_count": 11,
   "metadata": {},
   "outputs": [
    {
     "name": "stdout",
     "output_type": "stream",
     "text": [
      "numerical: 0.430254 analytic: 0.430254, relative error: 9.151201e-08\n",
      "numerical: 0.137057 analytic: 0.137057, relative error: 1.302309e-07\n",
      "numerical: 1.770183 analytic: 1.770183, relative error: 7.696766e-09\n",
      "numerical: -0.218173 analytic: -0.218173, relative error: 4.752906e-08\n",
      "numerical: -1.499603 analytic: -1.499603, relative error: 1.728419e-08\n",
      "numerical: 0.364455 analytic: 0.364455, relative error: 1.405569e-09\n",
      "numerical: 1.190980 analytic: 1.190980, relative error: 7.500666e-09\n",
      "numerical: 2.255271 analytic: 2.255271, relative error: 8.470098e-09\n",
      "numerical: -0.612767 analytic: -0.612767, relative error: 2.563653e-08\n",
      "numerical: 0.996292 analytic: 0.996292, relative error: 3.679016e-09\n",
      "numerical: -0.357731 analytic: -0.357731, relative error: 2.477243e-08\n",
      "numerical: 1.900978 analytic: 1.900978, relative error: 1.946494e-08\n",
      "numerical: 0.558615 analytic: 0.558615, relative error: 2.872076e-08\n",
      "numerical: 0.068720 analytic: 0.068720, relative error: 1.275680e-07\n",
      "numerical: 1.421639 analytic: 1.421639, relative error: 1.012777e-08\n",
      "numerical: -2.247270 analytic: -2.247270, relative error: 9.237210e-09\n",
      "numerical: -2.422144 analytic: -2.422144, relative error: 3.103079e-08\n",
      "numerical: -1.861151 analytic: -1.861151, relative error: 7.143319e-09\n",
      "numerical: 0.616610 analytic: 0.616610, relative error: 4.724633e-09\n",
      "numerical: -0.082473 analytic: -0.082473, relative error: 9.364181e-08\n"
     ]
    }
   ],
   "source": [
    "# Complete the implementation of softmax_loss_naive and implement a (naive)\n",
    "# version of the gradient that uses nested loops.\n",
    "loss, grad = softmax_loss_naive(W, X_dev, y_dev, 0.0)\n",
    "\n",
    "# As we did for the SVM, use numeric gradient checking as a debugging tool.\n",
    "# The numeric gradient should be close to the analytic gradient.\n",
    "from cs682.gradient_check import grad_check_sparse\n",
    "f = lambda w: softmax_loss_naive(w, X_dev, y_dev, 0.0)[0]\n",
    "grad_numerical = grad_check_sparse(f, W, grad, 10)\n",
    "\n",
    "# similar to SVM case, do another gradient check with regularization\n",
    "loss, grad = softmax_loss_naive(W, X_dev, y_dev, 5e1)\n",
    "f = lambda w: softmax_loss_naive(w, X_dev, y_dev, 5e1)[0]\n",
    "grad_numerical = grad_check_sparse(f, W, grad, 10)"
   ]
  },
  {
   "cell_type": "code",
   "execution_count": 14,
   "metadata": {},
   "outputs": [
    {
     "name": "stdout",
     "output_type": "stream",
     "text": [
      "naive loss: 2.328884e+00 computed in 0.149129s\n",
      "vectorized loss: 2.328884e+00 computed in 0.007659s\n",
      "Loss difference: 0.000000\n",
      "Gradient difference: 0.000000\n"
     ]
    }
   ],
   "source": [
    "# Now that we have a naive implementation of the softmax loss function and its gradient,\n",
    "# implement a vectorized version in softmax_loss_vectorized.\n",
    "# The two versions should compute the same results, but the vectorized version should be\n",
    "# much faster.\n",
    "tic = time.time()\n",
    "loss_naive, grad_naive = softmax_loss_naive(W, X_dev, y_dev, 0.000005)\n",
    "toc = time.time()\n",
    "print('naive loss: %e computed in %fs' % (loss_naive, toc - tic))\n",
    "\n",
    "from cs682.classifiers.softmax import softmax_loss_vectorized\n",
    "tic = time.time()\n",
    "loss_vectorized, grad_vectorized = softmax_loss_vectorized(W, X_dev, y_dev, 0.000005)\n",
    "toc = time.time()\n",
    "print('vectorized loss: %e computed in %fs' % (loss_vectorized, toc - tic))\n",
    "\n",
    "# As we did for the SVM, we use the Frobenius norm to compare the two versions\n",
    "# of the gradient.\n",
    "grad_difference = np.linalg.norm(grad_naive - grad_vectorized, ord='fro')\n",
    "print('Loss difference: %f' % np.abs(loss_naive - loss_vectorized))\n",
    "print('Gradient difference: %f' % grad_difference)"
   ]
  },
  {
   "cell_type": "code",
   "execution_count": 19,
   "metadata": {},
   "outputs": [
    {
     "name": "stdout",
     "output_type": "stream",
     "text": [
      "lr 1.000000e-07 reg 2.500000e+04 train accuracy: 0.329633 val accuracy: 0.339000\n",
      "lr 1.000000e-07 reg 2.777778e+04 train accuracy: 0.324388 val accuracy: 0.336000\n",
      "lr 1.000000e-07 reg 3.055556e+04 train accuracy: 0.320959 val accuracy: 0.338000\n",
      "lr 1.000000e-07 reg 3.333333e+04 train accuracy: 0.321000 val accuracy: 0.334000\n",
      "lr 1.000000e-07 reg 3.611111e+04 train accuracy: 0.316735 val accuracy: 0.333000\n",
      "lr 1.000000e-07 reg 3.888889e+04 train accuracy: 0.314429 val accuracy: 0.330000\n",
      "lr 1.000000e-07 reg 4.166667e+04 train accuracy: 0.309673 val accuracy: 0.328000\n",
      "lr 1.000000e-07 reg 4.444444e+04 train accuracy: 0.310837 val accuracy: 0.324000\n",
      "lr 1.000000e-07 reg 4.722222e+04 train accuracy: 0.310653 val accuracy: 0.325000\n",
      "lr 1.000000e-07 reg 5.000000e+04 train accuracy: 0.303184 val accuracy: 0.318000\n",
      "lr 1.444444e-07 reg 2.500000e+04 train accuracy: 0.330633 val accuracy: 0.349000\n",
      "lr 1.444444e-07 reg 2.777778e+04 train accuracy: 0.328735 val accuracy: 0.343000\n",
      "lr 1.444444e-07 reg 3.055556e+04 train accuracy: 0.323735 val accuracy: 0.338000\n",
      "lr 1.444444e-07 reg 3.333333e+04 train accuracy: 0.322490 val accuracy: 0.334000\n",
      "lr 1.444444e-07 reg 3.611111e+04 train accuracy: 0.322510 val accuracy: 0.341000\n",
      "lr 1.444444e-07 reg 3.888889e+04 train accuracy: 0.316612 val accuracy: 0.322000\n",
      "lr 1.444444e-07 reg 4.166667e+04 train accuracy: 0.306918 val accuracy: 0.317000\n",
      "lr 1.444444e-07 reg 4.444444e+04 train accuracy: 0.311306 val accuracy: 0.327000\n",
      "lr 1.444444e-07 reg 4.722222e+04 train accuracy: 0.308449 val accuracy: 0.325000\n",
      "lr 1.444444e-07 reg 5.000000e+04 train accuracy: 0.306592 val accuracy: 0.333000\n",
      "lr 1.888889e-07 reg 2.500000e+04 train accuracy: 0.330367 val accuracy: 0.343000\n",
      "lr 1.888889e-07 reg 2.777778e+04 train accuracy: 0.326245 val accuracy: 0.338000\n",
      "lr 1.888889e-07 reg 3.055556e+04 train accuracy: 0.315898 val accuracy: 0.327000\n",
      "lr 1.888889e-07 reg 3.333333e+04 train accuracy: 0.316245 val accuracy: 0.339000\n",
      "lr 1.888889e-07 reg 3.611111e+04 train accuracy: 0.322367 val accuracy: 0.327000\n",
      "lr 1.888889e-07 reg 3.888889e+04 train accuracy: 0.317347 val accuracy: 0.334000\n",
      "lr 1.888889e-07 reg 4.166667e+04 train accuracy: 0.311102 val accuracy: 0.329000\n",
      "lr 1.888889e-07 reg 4.444444e+04 train accuracy: 0.306755 val accuracy: 0.322000\n",
      "lr 1.888889e-07 reg 4.722222e+04 train accuracy: 0.313163 val accuracy: 0.333000\n",
      "lr 1.888889e-07 reg 5.000000e+04 train accuracy: 0.304939 val accuracy: 0.324000\n",
      "lr 2.333333e-07 reg 2.500000e+04 train accuracy: 0.322755 val accuracy: 0.342000\n",
      "lr 2.333333e-07 reg 2.777778e+04 train accuracy: 0.321551 val accuracy: 0.331000\n",
      "lr 2.333333e-07 reg 3.055556e+04 train accuracy: 0.330531 val accuracy: 0.347000\n",
      "lr 2.333333e-07 reg 3.333333e+04 train accuracy: 0.308816 val accuracy: 0.325000\n",
      "lr 2.333333e-07 reg 3.611111e+04 train accuracy: 0.316143 val accuracy: 0.329000\n",
      "lr 2.333333e-07 reg 3.888889e+04 train accuracy: 0.322061 val accuracy: 0.328000\n",
      "lr 2.333333e-07 reg 4.166667e+04 train accuracy: 0.318347 val accuracy: 0.334000\n",
      "lr 2.333333e-07 reg 4.444444e+04 train accuracy: 0.321776 val accuracy: 0.336000\n",
      "lr 2.333333e-07 reg 4.722222e+04 train accuracy: 0.307592 val accuracy: 0.325000\n",
      "lr 2.333333e-07 reg 5.000000e+04 train accuracy: 0.305959 val accuracy: 0.322000\n",
      "lr 2.777778e-07 reg 2.500000e+04 train accuracy: 0.329939 val accuracy: 0.338000\n",
      "lr 2.777778e-07 reg 2.777778e+04 train accuracy: 0.324918 val accuracy: 0.334000\n",
      "lr 2.777778e-07 reg 3.055556e+04 train accuracy: 0.323204 val accuracy: 0.336000\n",
      "lr 2.777778e-07 reg 3.333333e+04 train accuracy: 0.316367 val accuracy: 0.338000\n",
      "lr 2.777778e-07 reg 3.611111e+04 train accuracy: 0.324939 val accuracy: 0.343000\n",
      "lr 2.777778e-07 reg 3.888889e+04 train accuracy: 0.313571 val accuracy: 0.336000\n",
      "lr 2.777778e-07 reg 4.166667e+04 train accuracy: 0.315837 val accuracy: 0.326000\n",
      "lr 2.777778e-07 reg 4.444444e+04 train accuracy: 0.310898 val accuracy: 0.322000\n",
      "lr 2.777778e-07 reg 4.722222e+04 train accuracy: 0.310000 val accuracy: 0.326000\n",
      "lr 2.777778e-07 reg 5.000000e+04 train accuracy: 0.315571 val accuracy: 0.343000\n",
      "lr 3.222222e-07 reg 2.500000e+04 train accuracy: 0.329143 val accuracy: 0.344000\n",
      "lr 3.222222e-07 reg 2.777778e+04 train accuracy: 0.316204 val accuracy: 0.329000\n",
      "lr 3.222222e-07 reg 3.055556e+04 train accuracy: 0.315714 val accuracy: 0.334000\n",
      "lr 3.222222e-07 reg 3.333333e+04 train accuracy: 0.319673 val accuracy: 0.337000\n",
      "lr 3.222222e-07 reg 3.611111e+04 train accuracy: 0.320408 val accuracy: 0.334000\n",
      "lr 3.222222e-07 reg 3.888889e+04 train accuracy: 0.308082 val accuracy: 0.333000\n",
      "lr 3.222222e-07 reg 4.166667e+04 train accuracy: 0.304000 val accuracy: 0.328000\n",
      "lr 3.222222e-07 reg 4.444444e+04 train accuracy: 0.313878 val accuracy: 0.340000\n",
      "lr 3.222222e-07 reg 4.722222e+04 train accuracy: 0.311531 val accuracy: 0.332000\n",
      "lr 3.222222e-07 reg 5.000000e+04 train accuracy: 0.305204 val accuracy: 0.318000\n",
      "lr 3.666667e-07 reg 2.500000e+04 train accuracy: 0.330469 val accuracy: 0.345000\n",
      "lr 3.666667e-07 reg 2.777778e+04 train accuracy: 0.320122 val accuracy: 0.331000\n",
      "lr 3.666667e-07 reg 3.055556e+04 train accuracy: 0.311510 val accuracy: 0.333000\n",
      "lr 3.666667e-07 reg 3.333333e+04 train accuracy: 0.315388 val accuracy: 0.327000\n",
      "lr 3.666667e-07 reg 3.611111e+04 train accuracy: 0.322082 val accuracy: 0.337000\n",
      "lr 3.666667e-07 reg 3.888889e+04 train accuracy: 0.310531 val accuracy: 0.324000\n",
      "lr 3.666667e-07 reg 4.166667e+04 train accuracy: 0.306347 val accuracy: 0.337000\n",
      "lr 3.666667e-07 reg 4.444444e+04 train accuracy: 0.312959 val accuracy: 0.321000\n",
      "lr 3.666667e-07 reg 4.722222e+04 train accuracy: 0.305020 val accuracy: 0.321000\n",
      "lr 3.666667e-07 reg 5.000000e+04 train accuracy: 0.309490 val accuracy: 0.325000\n",
      "lr 4.111111e-07 reg 2.500000e+04 train accuracy: 0.328653 val accuracy: 0.347000\n",
      "lr 4.111111e-07 reg 2.777778e+04 train accuracy: 0.326143 val accuracy: 0.345000\n",
      "lr 4.111111e-07 reg 3.055556e+04 train accuracy: 0.318776 val accuracy: 0.335000\n",
      "lr 4.111111e-07 reg 3.333333e+04 train accuracy: 0.321490 val accuracy: 0.341000\n",
      "lr 4.111111e-07 reg 3.611111e+04 train accuracy: 0.310980 val accuracy: 0.329000\n",
      "lr 4.111111e-07 reg 3.888889e+04 train accuracy: 0.300265 val accuracy: 0.314000\n",
      "lr 4.111111e-07 reg 4.166667e+04 train accuracy: 0.306878 val accuracy: 0.322000\n",
      "lr 4.111111e-07 reg 4.444444e+04 train accuracy: 0.306592 val accuracy: 0.319000\n",
      "lr 4.111111e-07 reg 4.722222e+04 train accuracy: 0.297816 val accuracy: 0.315000\n",
      "lr 4.111111e-07 reg 5.000000e+04 train accuracy: 0.296673 val accuracy: 0.320000\n",
      "lr 4.555556e-07 reg 2.500000e+04 train accuracy: 0.329918 val accuracy: 0.342000\n",
      "lr 4.555556e-07 reg 2.777778e+04 train accuracy: 0.310714 val accuracy: 0.324000\n",
      "lr 4.555556e-07 reg 3.055556e+04 train accuracy: 0.313184 val accuracy: 0.319000\n",
      "lr 4.555556e-07 reg 3.333333e+04 train accuracy: 0.316531 val accuracy: 0.331000\n",
      "lr 4.555556e-07 reg 3.611111e+04 train accuracy: 0.314918 val accuracy: 0.329000\n",
      "lr 4.555556e-07 reg 3.888889e+04 train accuracy: 0.319122 val accuracy: 0.332000\n",
      "lr 4.555556e-07 reg 4.166667e+04 train accuracy: 0.301224 val accuracy: 0.328000\n",
      "lr 4.555556e-07 reg 4.444444e+04 train accuracy: 0.310286 val accuracy: 0.329000\n",
      "lr 4.555556e-07 reg 4.722222e+04 train accuracy: 0.303510 val accuracy: 0.319000\n",
      "lr 4.555556e-07 reg 5.000000e+04 train accuracy: 0.287959 val accuracy: 0.306000\n",
      "lr 5.000000e-07 reg 2.500000e+04 train accuracy: 0.337122 val accuracy: 0.355000\n",
      "lr 5.000000e-07 reg 2.777778e+04 train accuracy: 0.324633 val accuracy: 0.340000\n",
      "lr 5.000000e-07 reg 3.055556e+04 train accuracy: 0.322592 val accuracy: 0.345000\n",
      "lr 5.000000e-07 reg 3.333333e+04 train accuracy: 0.320327 val accuracy: 0.327000\n",
      "lr 5.000000e-07 reg 3.611111e+04 train accuracy: 0.316837 val accuracy: 0.335000\n",
      "lr 5.000000e-07 reg 3.888889e+04 train accuracy: 0.312571 val accuracy: 0.324000\n",
      "lr 5.000000e-07 reg 4.166667e+04 train accuracy: 0.308939 val accuracy: 0.316000\n",
      "lr 5.000000e-07 reg 4.444444e+04 train accuracy: 0.302347 val accuracy: 0.315000\n",
      "lr 5.000000e-07 reg 4.722222e+04 train accuracy: 0.302918 val accuracy: 0.321000\n",
      "lr 5.000000e-07 reg 5.000000e+04 train accuracy: 0.290408 val accuracy: 0.300000\n",
      "best validation accuracy achieved during cross-validation: 0.355000\n"
     ]
    }
   ],
   "source": [
    "# Use the validation set to tune hyperparameters (regularization strength and\n",
    "# learning rate). You should experiment with different ranges for the learning\n",
    "# rates and regularization strengths; if you are careful you should be able to\n",
    "# get a classification accuracy of over 0.35 on the validation set.\n",
    "from cs682.classifiers import Softmax\n",
    "results = {}\n",
    "best_val = -1\n",
    "best_softmax = None\n",
    "learning_rates = np.linspace(1e-7, 5e-7, 10)\n",
    "regularization_strengths = np.linspace(2.5e4, 5e4, 10)\n",
    "\n",
    "################################################################################\n",
    "# TODO:                                                                        #\n",
    "# Use the validation set to set the learning rate and regularization strength. #\n",
    "# This should be identical to the validation that you did for the SVM; save    #\n",
    "# the best trained softmax classifer in best_softmax.                          #\n",
    "################################################################################\n",
    "for lr in learning_rates: \n",
    "    for reg in regularization_strengths: \n",
    "        softmax = Softmax()\n",
    "        softmax.train(X_train, y_train, \n",
    "                      learning_rate = lr, reg = reg, \n",
    "                      num_iters = 1500, batch_size = 256)\n",
    "        \n",
    "        y_pred_train = softmax.predict(X_train)\n",
    "        training_accuracy = np.mean(y_pred_train == y_train)\n",
    "        \n",
    "        y_pred_val = softmax.predict(X_val)\n",
    "        validation_accuracy = np.mean(y_pred_val == y_val)\n",
    "        \n",
    "        results[(lr, reg)] = (training_accuracy, validation_accuracy)\n",
    "        \n",
    "        if best_val < validation_accuracy: \n",
    "            best_val = validation_accuracy\n",
    "            best_softmax = softmax\n",
    "################################################################################\n",
    "#                              END OF YOUR CODE                                #\n",
    "################################################################################\n",
    "    \n",
    "# Print out results.\n",
    "for lr, reg in sorted(results):\n",
    "    train_accuracy, val_accuracy = results[(lr, reg)]\n",
    "    print('lr %e reg %e train accuracy: %f val accuracy: %f' % (\n",
    "                lr, reg, train_accuracy, val_accuracy))\n",
    "    \n",
    "print('best validation accuracy achieved during cross-validation: %f' % best_val)"
   ]
  },
  {
   "cell_type": "code",
   "execution_count": 20,
   "metadata": {},
   "outputs": [
    {
     "name": "stdout",
     "output_type": "stream",
     "text": [
      "softmax on raw pixels final test set accuracy: 0.344000\n"
     ]
    }
   ],
   "source": [
    "# evaluate on test set\n",
    "# Evaluate the best softmax on test set\n",
    "y_test_pred = best_softmax.predict(X_test)\n",
    "test_accuracy = np.mean(y_test == y_test_pred)\n",
    "print('softmax on raw pixels final test set accuracy: %f' % (test_accuracy, ))"
   ]
  },
  {
   "cell_type": "markdown",
   "metadata": {},
   "source": [
    "**Inline Question** - *True or False*\n",
    "\n",
    "It's possible to add a new datapoint to a training set that would leave the SVM loss unchanged, but this is not the case with the Softmax classifier loss.\n",
    "\n",
    "*Your answer*:\n",
    "\n",
    "True\n",
    "\n",
    "*Your explanation*:\n",
    "\n",
    "Given the hinge loss of SVM, the losses no more than margin are set to 0. If the new image is very distinguishable by our classifier, the SVM loss will not change. However, as the cross-entropy loss of Softmax is actually the probability of the new image being in each of the class. There must be a number added to the loss even if it's very small. "
   ]
  },
  {
   "cell_type": "code",
   "execution_count": 21,
   "metadata": {},
   "outputs": [
    {
     "data": {
      "image/png": "[encoded data removed]",
      "text/plain": [
       "<Figure size 432x288 with 10 Axes>"
      ]
     },
     "metadata": {
      "needs_background": "light"
     },
     "output_type": "display_data"
    }
   ],
   "source": [
    "# Visualize the learned weights for each class\n",
    "w = best_softmax.W[:-1,:] # strip out the bias\n",
    "w = w.reshape(32, 32, 3, 10)\n",
    "\n",
    "w_min, w_max = np.min(w), np.max(w)\n",
    "\n",
    "classes = ['plane', 'car', 'bird', 'cat', 'deer', 'dog', 'frog', 'horse', 'ship', 'truck']\n",
    "for i in range(10):\n",
    "    plt.subplot(2, 5, i + 1)\n",
    "    \n",
    "    # Rescale the weights to be between 0 and 255\n",
    "    wimg = 255.0 * (w[:, :, :, i].squeeze() - w_min) / (w_max - w_min)\n",
    "    plt.imshow(wimg.astype('uint8'))\n",
    "    plt.axis('off')\n",
    "    plt.title(classes[i])"
   ]
  }
 ],
 "metadata": {
  "kernelspec": {
   "display_name": "Python 3",
   "language": "python",
   "name": "python3"
  },
  "language_info": {
   "codemirror_mode": {
    "name": "ipython",
    "version": 3
   },
   "file_extension": ".py",
   "mimetype": "text/x-python",
   "name": "python",
   "nbconvert_exporter": "python",
   "pygments_lexer": "ipython3",
   "version": "3.7.3"
  }
 },
 "nbformat": 4,
 "nbformat_minor": 1
}
